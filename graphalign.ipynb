{
  "worksheets": [
    {
      "cells": [
        {
          "cell_type": "markdown",
          "source": "Background: https://github.com/ged-lab/2013-read-aligner\n\n1st Goal: Error correct reads using a count-min sketch backed graph of sequences.\n\nMethod: Traverse the graph starting at a single matching k-mer using the A* algorithm to predict the HMM state sequence that best describes the read. Use that HMM state sequence to predict the real nuceleotide sequence that produced this read.\n\nBasic model design:\n(not ergodic, left-right/Bakis)\n\nHMM components (definition from Eddy, 10.1038/nbt1004-1315)\n\n1. Symbol alphabet: **A**, **C**, **G**, **T**\n\n2. Number of states in the model: **3**\n\n   Perfect matches between the query and the graph (`MATCH`), insertion of nucleotide from the graph (`INSERT_GRAPH`), and insertion of a nucleotide from the query (`INSERT_READ`)\n\n3. Emission probabilities for each state\n\n   Not implemented as this is a directed HMM: only symbols (nucleotides) present in either the next position of the query sequence or one of the next valid locations in the graph are considered. From the perspective of the final alignment the chosen emissions are the ones that led to the highest possible score at each location along the chain.\n\n4. Transition probablilities for each state\n\n   See khmer::trans_default. INSERT_READ to INSERT_GRAPH and vice-versa are not supported.\n   \n   ![Basic HMM directed graph](http://athyra.ged.msu.edu/~mcrusoe/graphalign-simple.png)\n"
        },
        {
          "cell_type": "markdown",
          "source": "\nImplementation description:\n1. Find the k-mer within the query sequence with the highest coverage in the counting table.\n\n2. Start the alignment using this k-mer as the seed; its trailing nuceleotide as the first emission symbol. The HMM is now in the state `MATCH`.\n\n3. Work \"forwards\" from the seed k-mer to find the subaligment. Do this by enumerating possible next states based upon the presence in the graph of all four k-mers that overlap k-1 nucleotides in the direction being examined.  All combinations of valid nucleotide extensions and allowed next states are considered.\n\n4. These next possible states are sorted by their alignment score and the highest scoring state is picked for further extension via 3).\n\n5. Evaluations stop when the end of the query sequence is reached.\n\n6. Repeat 3-5 for the reverse direction using the leading nucleotide of the seed k-mer as the first emission symbol and working \"backwards\".\n\nThe scoring function:\n\nCoverage awareness:\nActually the model and scoring function is a bit more complicated as the coverage of kmers is compared to a user configurable threshold to see if this k-mer is to be \"trusted\" or \"untrusted\". This requires doubling the number of states: the second half are the untrusted versions. The scoring function also takes the trusted status into account.\n\n![Complete HMM](http://athyra.ged.msu.edu/~mcrusoe/graphalign.png)\n\nwork by keeping track of all nodes evaluated via three collections: all, open, and closed. The \"open\" heap keeps track of alignment nodes needing enumeration; the \"closed\" collection maps alignment nodes with the number of times they have been enumerated so far.\n\n\nImplementation notes:\n \nEach alignment node covers a single nucleotide. A maximum of 3 indels (INSERT_READ nodes and/or INSERT_GRAPH nodes) are allowed.\n\nThe starting `AlignmentNode` has transition state 'MM' (match to match). Its score is adjusted based upon the coverage of the seed k-mer compared to a configurable cutoff whose default value is 3. Scoring has two components and is multiplied by the length of the alignment node (the k-size in the instance of the starting node): the trusted state and the type of transition.\n\n`AlignmentNode`s are considered to be the same if 1) they refer to the same position in the query (`AlignmentNode.seq_idx`) 2) they are part of the same direction scan outward from the root k-mer (`AlignmentNode.state`) 3) they refer to the same alignment sequence (`AlignmentNode.fwd_hash` and `.rev_hash`) and finally 4) they have the same transition pair (`AlignmentNode.trans`, example: \"MM\").\n\nThere is a third collection of subalignment `AlignmentNode`s, the `all` vector which collects all considered alignment nodes for memory management purposes.\n"
        },
        {
          "cell_type": "markdown",
          "source": "[Link to view this notebook using nbviewer for testing](http://nbviewer.ipython.org/urls/docs.google.com/uc/%3Fid%3D0ByAsICKN_YXGbHhIMkh3bV9WQnM%26export%3Ddownload)"
        }
      ]
    }
  ],
  "metadata": {
    "name": "graphalign.ipynb",
    "colabVersion": "0.1"
  },
  "nbformat": 3,
  "nbformat_minor": 0
}